{
 "cells": [
  {
   "cell_type": "code",
   "execution_count": 2,
   "id": "ab58f12f",
   "metadata": {},
   "outputs": [],
   "source": [
    "\n",
    "import lvm_read\n",
    "import numpy as np\n",
    "import matplotlib.pyplot as plt\n",
    "from scipy.optimize import curve_fit\n",
    "import scipy.stats\n",
    "import math"
   ]
  },
  {
   "cell_type": "code",
   "execution_count": 3,
   "id": "e970f9be",
   "metadata": {
    "scrolled": true
   },
   "outputs": [],
   "source": [
    "file = \"trials 2.lvm\"\n",
    "file_calibrate = \"THERM_CALIBRATE.lvm\""
   ]
  },
  {
   "cell_type": "code",
   "execution_count": 4,
   "id": "a6d7e36e",
   "metadata": {},
   "outputs": [],
   "source": [
    "lvm = lvm_read.read(file, read_from_pickle=False)\n",
    "lvm_calibrate = lvm_read.read(file_calibrate, read_from_pickle=False)"
   ]
  },
  {
   "cell_type": "code",
   "execution_count": 102,
   "id": "a3a641a9",
   "metadata": {},
   "outputs": [],
   "source": [
    "#Create arrays of the data\n",
    "\n",
    "data=np.array(lvm[0][\"data\"])\n",
    "timestamp = np.ravel(np.hsplit(data,8)[0])\n",
    "V_Sample = np.ravel(np.hsplit(data,8)[3])\n",
    "I_Sample = np.ravel(np.hsplit(data,8)[4])\n",
    "V_Therm = np.ravel(np.hsplit(data,8)[1])\n",
    "I_Therm = np.ravel(np.hsplit(data,8)[2])\n",
    "V_Hall = np.ravel(np.hsplit(data,8)[5])\n",
    "I_Hall = np.ravel(np.hsplit(data,8)[6])\n",
    "Temp_Cryostat = np.ravel(np.hsplit(data,8)[7])\n",
    "\n",
    "    \n",
    "#Create arrays of the calibration data   \n",
    "data_cal = np.array(lvm_calibrate[0][\"data\"])\n",
    "V_Sample_Cal = np.ravel(np.hsplit(data_cal,8)[3])\n",
    "I_Sample_Cal = np.ravel(np.hsplit(data_cal,8)[4])\n",
    "V_Therm_Cal = np.ravel(np.hsplit(data_cal,8)[1])\n",
    "I_Therm_Cal = np.ravel(np.hsplit(data_cal,8)[2])\n",
    "Temp_Cryostat_Cal = np.ravel(np.hsplit(data_cal,8)[7])\n"
   ]
  },
  {
   "cell_type": "code",
   "execution_count": 137,
   "id": "ab908723",
   "metadata": {},
   "outputs": [],
   "source": [
    "#Calculating the Resistances\n",
    "R_Sample=abs(V_Sample/I_Sample)  \n",
    "R_Therm= abs(V_Therm/I_Therm)\n",
    "R_Sample_Cal=abs(V_Sample_Cal/I_Sample_Cal) \n",
    "R_Therm_Cal= (V_Therm_Cal/I_Therm_Cal)\n",
    "\n",
    "#Errors\n",
    "I_Therm_Err = np.empty(len(I_Therm))\n",
    "V_Therm_Err = np.empty(len(V_Therm))\n",
    "I_Therm_Err.fill(0.00001) \n",
    "V_Therm_Err.fill(0.00001)\n",
    "I_Therm_Cal_Err = np.empty(len(I_Therm_Cal))\n",
    "V_Therm_Cal_Err = np.empty(len(V_Therm_Cal))\n",
    "I_Therm_Cal_Err.fill(0.0001)\n",
    "V_Therm_Cal_Err.fill(0.0001)\n",
    "\n",
    "#Calculating The Error in R\n",
    "\n",
    "R_Therm_Err = R_Therm * np.sqrt( (I_Therm_Err/I_Therm)**2 + (V_Therm_Err/V_Therm)**2 )\n",
    "R_Therm_Cal_Err = R_Therm_Cal * np.sqrt( (I_Therm_Cal_Err/I_Therm_Cal)**2 + (V_Therm_Cal_Err/V_Therm_Cal)**2 )\n",
    "\n",
    "\n"
   ]
  },
  {
   "cell_type": "code",
   "execution_count": 104,
   "id": "cfaa7669",
   "metadata": {},
   "outputs": [
    {
     "name": "stdout",
     "output_type": "stream",
     "text": [
      "[ 0.44787119 -8.8902528 ]\n",
      "3.1207931304846342e-06 0.0007248404292422438\n"
     ]
    },
    {
     "data": {
      "text/plain": [
       "<matplotlib.legend.Legend at 0x284d9e2f130>"
      ]
     },
     "execution_count": 104,
     "metadata": {},
     "output_type": "execute_result"
    },
    {
     "data": {
      "image/png": "[encoded data removed]",
      "text/plain": [
       "<Figure size 432x288 with 1 Axes>"
      ]
     },
     "metadata": {
      "needs_background": "light"
     },
     "output_type": "display_data"
    }
   ],
   "source": [
    "#Fitting straight line to the Cryostat temp - Therm Resistance graph\n",
    "\n",
    "def linear(x,A,B): # defining the linear function\n",
    "    y = B+A*x\n",
    "    return y\n",
    "\n",
    "parameters, covariance = curve_fit(linear, Temp_Cryostat_Cal, R_Therm_Cal, sigma = R_Therm_Cal_Err, absolute_sigma=True, p0=[0,1]) # Fitting the function\n",
    "\n",
    "R0 = parameters[1] #Setting the variables \n",
    "Alpha = parameters[0]\n",
    "\n",
    "Errors_linear = np.sqrt(np.diag(covariance))#Calculating the errors in the parameters\n",
    "Alpha_Error = Errors_linear[0]\n",
    "R0_Error = Errors_linear[1]\n",
    "\n",
    "Linear_fit = R0+Alpha*(Temp_Cryostat_Cal)\n",
    "print(parameters)\n",
    "print(Alpha_Error, R0_Error)\n",
    "\n",
    "plt.errorbar(Temp_Cryostat_Cal,R_Therm_Cal,yerr=R_Therm_Cal_Err, marker='o',linestyle=\"None\")\n",
    "plt.plot(Temp_Cryostat_Cal,Linear_fit,\"-\",label=\"fit\")\n",
    "plt.legend()\n"
   ]
  },
  {
   "cell_type": "code",
   "execution_count": 105,
   "id": "ce6ce980",
   "metadata": {},
   "outputs": [
    {
     "name": "stdout",
     "output_type": "stream",
     "text": [
      "17.060983831929658 0.0\n"
     ]
    }
   ],
   "source": [
    "#Chi-Squared and P-Value for the linear function\n",
    "\n",
    "Chi_Squared_Lin = np.sum(((R_Therm_Cal - Linear_fit)/R_Therm_Cal_Err)**2) #Calculating Reduced Chi-Squared\n",
    "\n",
    "Dof = Temp_Cryostat_Cal.size - 2\n",
    "\n",
    "Chi_Red = Chi_Squared_Lin/Dof\n",
    "\n",
    "P_Value = scipy.stats.chi2.sf(Chi_Squared_Lin, Dof)\n",
    "\n",
    "print(Chi_Red,P_Value)"
   ]
  },
  {
   "cell_type": "code",
   "execution_count": 106,
   "id": "1cd2c51e",
   "metadata": {},
   "outputs": [
    {
     "data": {
      "text/plain": [
       "[<matplotlib.lines.Line2D at 0x284a7cab790>]"
      ]
     },
     "execution_count": 106,
     "metadata": {},
     "output_type": "execute_result"
    },
    {
     "data": {
      "image/png": "[encoded data removed]",
      "text/plain": [
       "<Figure size 432x288 with 1 Axes>"
      ]
     },
     "metadata": {
      "needs_background": "light"
     },
     "output_type": "display_data"
    }
   ],
   "source": [
    "Calc_Temp = (R_Therm_Cal-R0)/Alpha # Calculating the temp from linear fit\n",
    "\n",
    "Err_From_R0 = (R_Therm_Cal-(R0+R0_Error))/Alpha-Calc_Temp\n",
    "Err_From_Alpha = (R_Therm_Cal-R0)/(Alpha+Alpha_Error)-Calc_Temp\n",
    "Err_Temp_Total = np.sqrt(Err_From_R0**2+Err_From_Alpha**2 )\n",
    "\n",
    "plt.plot(Calc_Temp,R_Sample_Cal,\"o\") # Plotting R0 to the temp"
   ]
  },
  {
   "cell_type": "code",
   "execution_count": 120,
   "id": "5ffdb6c7",
   "metadata": {},
   "outputs": [
    {
     "data": {
      "text/plain": [
       "<matplotlib.collections.PathCollection at 0x28530abef40>"
      ]
     },
     "execution_count": 120,
     "metadata": {},
     "output_type": "execute_result"
    },
    {
     "data": {
      "image/png": "[encoded data removed]",
      "text/plain": [
       "<Figure size 432x288 with 1 Axes>"
      ]
     },
     "metadata": {
      "needs_background": "light"
     },
     "output_type": "display_data"
    }
   ],
   "source": [
    "x_lower = Calc_Temp[Calc_Temp<89.25]\n",
    "y_lower = R_Sample_Cal[np.nonzero(Calc_Temp<89.25)]\n",
    "x_mid = x_lower[x_lower>88]\n",
    "y_mid = y_lower[np.nonzero(x_lower>88)]\n",
    "\n",
    "plt.scatter(x_mid,y_mid)\n"
   ]
  },
  {
   "cell_type": "code",
   "execution_count": 139,
   "id": "f95e087e",
   "metadata": {},
   "outputs": [
    {
     "data": {
      "text/plain": [
       "(-0.0005, 0.0005)"
      ]
     },
     "execution_count": 139,
     "metadata": {},
     "output_type": "execute_result"
    },
    {
     "data": {
      "image/png": "[encoded data removed]",
      "text/plain": [
       "<Figure size 432x288 with 1 Axes>"
      ]
     },
     "metadata": {
      "needs_background": "light"
     },
     "output_type": "display_data"
    }
   ],
   "source": [
    "#Derivitive for the R_Sample\n",
    "\n",
    "\n",
    "der = np.empty(x_mid.size-1)\n",
    "\n",
    "for i in range(0,der.size):\n",
    "    der[i]=abs((y_mid[i+1]-y_mid[i])/(x_mid[i+1]-x_mid[i]))\n",
    "    \n",
    "plt.scatter(x_mid[:der.size],der)\n",
    "\n",
    "plt.ylim(-0.0005,0.0005)\n"
   ]
  },
  {
   "cell_type": "code",
   "execution_count": 42,
   "id": "4ef997dc",
   "metadata": {},
   "outputs": [],
   "source": [
    "#Fitting the derivitive of the R_Sample to the Gaussian\n",
    "\n",
    "def Gauss(x,a,x0,sigma):\n",
    "    return a*np.exp(-(x-x0)**2/(2*sigma**2))\n",
    "\n",
    "#popt_gauss, pcov_gauss = curve_fit(Gauss,Calc_Temp,Der_Sample,Der_Sample_Err,absolute_sigma=True, p0=[max(Der_Sample),0,1])\n",
    "#Errors_Gauss = np.sqrt(np.diag(pcov_Gauss))\n"
   ]
  },
  {
   "cell_type": "code",
   "execution_count": 118,
   "id": "01c4aca3",
   "metadata": {},
   "outputs": [],
   "source": [
    "#For the Magnetic Field\n",
    "\n",
    "B_Values = V_Hall/I_Hall\n",
    "B_Max = max(B_Values)\n",
    "\n",
    "Angles = np.degrees(np.arccos(B_Values/B_Max))\n"
   ]
  },
  {
   "cell_type": "code",
   "execution_count": 11,
   "id": "3453de16",
   "metadata": {},
   "outputs": [
    {
     "data": {
      "text/plain": [
       "array([0.050583, 0.050552, 0.050615, ..., 0.0506  , 0.050502, 0.05051 ])"
      ]
     },
     "execution_count": 11,
     "metadata": {},
     "output_type": "execute_result"
    }
   ],
   "source": [
    "I_Therm_Cal"
   ]
  },
  {
   "cell_type": "code",
   "execution_count": null,
   "id": "d18cc696",
   "metadata": {},
   "outputs": [],
   "source": []
  }
 ],
 "metadata": {
  "kernelspec": {
   "display_name": "Python 3 (ipykernel)",
   "language": "python",
   "name": "python3"
  },
  "language_info": {
   "codemirror_mode": {
    "name": "ipython",
    "version": 3
   },
   "file_extension": ".py",
   "mimetype": "text/x-python",
   "name": "python",
   "nbconvert_exporter": "python",
   "pygments_lexer": "ipython3",
   "version": "3.9.12"
  }
 },
 "nbformat": 4,
 "nbformat_minor": 5
}
